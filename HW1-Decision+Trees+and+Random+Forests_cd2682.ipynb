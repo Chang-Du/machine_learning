{
 "cells": [
  {
   "cell_type": "markdown",
   "metadata": {},
   "source": [
    "Total points for this HW: 100.\n",
    "\n",
    "Please note: Copying and pasting other people's work is absolutely prohibited.  Any such cases will be reported to CUSP's education team and severely punished. Discussion is encouraged, and feel free to exchange ideas with your classmates, but please write your own code and do your own work."
   ]
  },
  {
   "cell_type": "markdown",
   "metadata": {
    "collapsed": true
   },
   "source": [
    "### Question 1: Accuracy and interpretability (10 pts)\n",
    "\n",
    "a) Describe a real-world prediction problem using urban data for which _interpretability_ of your models and results is essential, and for which it might be preferable to use decision trees rather than random forests.  Argue why this is the case. (3 pts)"
   ]
  },
  {
   "cell_type": "markdown",
   "metadata": {},
   "source": [
    "**Answer:**\n",
    "\n",
    "real-world prediction: predict Urban heat island effect by Decision Tree.\n",
    "\n",
    "Explaining the prediction of Urban heat island effect to the public. We should make these easier to understand: How to predict a new urban heat island and what the related elements caused this problem are.\n",
    "\n",
    "Interpretability is important when to explain a professional predictive model to a large amount of people who may not have the related knowledge. Decision Tree is more interpretable than Random Forest to the public."
   ]
  },
  {
   "cell_type": "markdown",
   "metadata": {},
   "source": [
    "b) Describe a real-world prediction problem using urban data for which _accuracy_ is paramount and interpretability may be less important, and for which it might be preferable to use random forests rather than decision trees.  Argue why this is the case. (3 pts)"
   ]
  },
  {
   "cell_type": "markdown",
   "metadata": {},
   "source": [
    "**Answer:**\n",
    "\n",
    "real-world prediction: predict the exact bearing capacity of a bridge\n",
    "\n",
    "The accuracy is very important for this prediction, slightly difference might cause huge loss. However, the interpretability is less important, because most people related with this project are professional.\n",
    "\n",
    "Random Forest is more suitable for complicated predictive model in real life, it will have higher accuracy at this point."
   ]
  },
  {
   "cell_type": "markdown",
   "metadata": {},
   "source": [
    "c) Let's imagine that you want to try to get the best of both worlds (accuracy _and_ interpretability).  So you decide to start by learning a random forest classifier.  Describe at least one way of getting some interpretability out of the model by post-processing.  You could either pick a method from the literature (e.g., Domingos's work on combining multiple models or some method of computing variable importance), or come up with your own approach (doesn't have to be ground-breaking, but feel free to be creative!) (4 pts)"
   ]
  },
  {
   "cell_type": "markdown",
   "metadata": {},
   "source": [
    "**Answer:**\n",
    "\n",
    "We can use model.feature_importances in sklearn random forest to help interpret the Random Forest. Important features mean the features that are more closely related with dependent variable and contribute more for variation of the dependent variable. The important features can explain much the result."
   ]
  },
  {
   "cell_type": "markdown",
   "metadata": {},
   "source": [
    "###  Question 2: Build a decision tree for classification, step by step, following the lecture notes. Note that the dataset has been slightly modified, so you will get a different tree than the one shown in the lecture notes.  (30 points)"
   ]
  },
  {
   "cell_type": "code",
   "execution_count": 1,
   "metadata": {},
   "outputs": [],
   "source": [
    "import pandas as pd\n",
    "import numpy as np"
   ]
  },
  {
   "cell_type": "code",
   "execution_count": 97,
   "metadata": {},
   "outputs": [
    {
     "data": {
      "text/html": [
       "<div>\n",
       "<table border=\"1\" class=\"dataframe\">\n",
       "  <thead>\n",
       "    <tr style=\"text-align: right;\">\n",
       "      <th></th>\n",
       "      <th>MPG</th>\n",
       "      <th>cylinders</th>\n",
       "      <th>HP</th>\n",
       "      <th>weight</th>\n",
       "    </tr>\n",
       "  </thead>\n",
       "  <tbody>\n",
       "    <tr>\n",
       "      <th>0</th>\n",
       "      <td>good</td>\n",
       "      <td>4</td>\n",
       "      <td>75</td>\n",
       "      <td>light</td>\n",
       "    </tr>\n",
       "    <tr>\n",
       "      <th>1</th>\n",
       "      <td>bad</td>\n",
       "      <td>6</td>\n",
       "      <td>90</td>\n",
       "      <td>medium</td>\n",
       "    </tr>\n",
       "    <tr>\n",
       "      <th>2</th>\n",
       "      <td>bad</td>\n",
       "      <td>4</td>\n",
       "      <td>110</td>\n",
       "      <td>medium</td>\n",
       "    </tr>\n",
       "    <tr>\n",
       "      <th>3</th>\n",
       "      <td>bad</td>\n",
       "      <td>8</td>\n",
       "      <td>175</td>\n",
       "      <td>weighty</td>\n",
       "    </tr>\n",
       "    <tr>\n",
       "      <th>4</th>\n",
       "      <td>bad</td>\n",
       "      <td>6</td>\n",
       "      <td>95</td>\n",
       "      <td>medium</td>\n",
       "    </tr>\n",
       "    <tr>\n",
       "      <th>5</th>\n",
       "      <td>bad</td>\n",
       "      <td>4</td>\n",
       "      <td>94</td>\n",
       "      <td>light</td>\n",
       "    </tr>\n",
       "    <tr>\n",
       "      <th>6</th>\n",
       "      <td>bad</td>\n",
       "      <td>4</td>\n",
       "      <td>95</td>\n",
       "      <td>light</td>\n",
       "    </tr>\n",
       "    <tr>\n",
       "      <th>7</th>\n",
       "      <td>bad</td>\n",
       "      <td>8</td>\n",
       "      <td>139</td>\n",
       "      <td>weighty</td>\n",
       "    </tr>\n",
       "    <tr>\n",
       "      <th>8</th>\n",
       "      <td>bad</td>\n",
       "      <td>8</td>\n",
       "      <td>190</td>\n",
       "      <td>weighty</td>\n",
       "    </tr>\n",
       "    <tr>\n",
       "      <th>9</th>\n",
       "      <td>bad</td>\n",
       "      <td>8</td>\n",
       "      <td>145</td>\n",
       "      <td>weighty</td>\n",
       "    </tr>\n",
       "    <tr>\n",
       "      <th>10</th>\n",
       "      <td>bad</td>\n",
       "      <td>6</td>\n",
       "      <td>100</td>\n",
       "      <td>medium</td>\n",
       "    </tr>\n",
       "    <tr>\n",
       "      <th>11</th>\n",
       "      <td>good</td>\n",
       "      <td>4</td>\n",
       "      <td>92</td>\n",
       "      <td>medium</td>\n",
       "    </tr>\n",
       "    <tr>\n",
       "      <th>12</th>\n",
       "      <td>bad</td>\n",
       "      <td>6</td>\n",
       "      <td>100</td>\n",
       "      <td>weighty</td>\n",
       "    </tr>\n",
       "    <tr>\n",
       "      <th>13</th>\n",
       "      <td>bad</td>\n",
       "      <td>8</td>\n",
       "      <td>170</td>\n",
       "      <td>weighty</td>\n",
       "    </tr>\n",
       "    <tr>\n",
       "      <th>14</th>\n",
       "      <td>good</td>\n",
       "      <td>4</td>\n",
       "      <td>89</td>\n",
       "      <td>medium</td>\n",
       "    </tr>\n",
       "    <tr>\n",
       "      <th>15</th>\n",
       "      <td>good</td>\n",
       "      <td>4</td>\n",
       "      <td>65</td>\n",
       "      <td>light</td>\n",
       "    </tr>\n",
       "    <tr>\n",
       "      <th>16</th>\n",
       "      <td>bad</td>\n",
       "      <td>6</td>\n",
       "      <td>85</td>\n",
       "      <td>medium</td>\n",
       "    </tr>\n",
       "    <tr>\n",
       "      <th>17</th>\n",
       "      <td>good</td>\n",
       "      <td>4</td>\n",
       "      <td>81</td>\n",
       "      <td>light</td>\n",
       "    </tr>\n",
       "    <tr>\n",
       "      <th>18</th>\n",
       "      <td>bad</td>\n",
       "      <td>6</td>\n",
       "      <td>95</td>\n",
       "      <td>medium</td>\n",
       "    </tr>\n",
       "    <tr>\n",
       "      <th>19</th>\n",
       "      <td>bad</td>\n",
       "      <td>4</td>\n",
       "      <td>93</td>\n",
       "      <td>light</td>\n",
       "    </tr>\n",
       "  </tbody>\n",
       "</table>\n",
       "</div>"
      ],
      "text/plain": [
       "     MPG  cylinders   HP   weight\n",
       "0   good          4   75    light\n",
       "1    bad          6   90   medium\n",
       "2    bad          4  110   medium\n",
       "3    bad          8  175  weighty\n",
       "4    bad          6   95   medium\n",
       "5    bad          4   94    light\n",
       "6    bad          4   95    light\n",
       "7    bad          8  139  weighty\n",
       "8    bad          8  190  weighty\n",
       "9    bad          8  145  weighty\n",
       "10   bad          6  100   medium\n",
       "11  good          4   92   medium\n",
       "12   bad          6  100  weighty\n",
       "13   bad          8  170  weighty\n",
       "14  good          4   89   medium\n",
       "15  good          4   65    light\n",
       "16   bad          6   85   medium\n",
       "17  good          4   81    light\n",
       "18   bad          6   95   medium\n",
       "19   bad          4   93    light"
      ]
     },
     "execution_count": 97,
     "metadata": {},
     "output_type": "execute_result"
    }
   ],
   "source": [
    "from StringIO import StringIO\n",
    "thefile = StringIO('MPG,cylinders,HP,weight\\ngood,4,75,light\\nbad,6,90,medium\\nbad,4,110,medium\\nbad,8,175,weighty\\nbad,6,95,medium\\nbad,4,94,light\\nbad,4,95,light\\nbad,8,139,weighty\\nbad,8,190,weighty\\nbad,8,145,weighty\\nbad,6,100,medium\\ngood,4,92,medium\\nbad,6,100,weighty\\nbad,8,170,weighty\\ngood,4,89,medium\\ngood,4,65,light\\nbad,6,85,medium\\ngood,4,81,light\\nbad,6,95,medium\\nbad,4,93,light')\n",
    "df = pd.read_csv(thefile)\n",
    "df"
   ]
  },
  {
   "cell_type": "markdown",
   "metadata": {},
   "source": [
    "### Please use numpy and pandas to do the computation for parts a) through f).  Do not use an existing decision tree implementation like sklearn for this question."
   ]
  },
  {
   "cell_type": "markdown",
   "metadata": {},
   "source": [
    "a) Start with the entire dataset and find the most common MPG value. (2 pts)"
   ]
  },
  {
   "cell_type": "code",
   "execution_count": 98,
   "metadata": {},
   "outputs": [
    {
     "data": {
      "text/html": [
       "<div>\n",
       "<table border=\"1\" class=\"dataframe\">\n",
       "  <thead>\n",
       "    <tr style=\"text-align: right;\">\n",
       "      <th></th>\n",
       "      <th>index</th>\n",
       "      <th>MPG</th>\n",
       "    </tr>\n",
       "  </thead>\n",
       "  <tbody>\n",
       "    <tr>\n",
       "      <th>0</th>\n",
       "      <td>bad</td>\n",
       "      <td>15</td>\n",
       "    </tr>\n",
       "    <tr>\n",
       "      <th>1</th>\n",
       "      <td>good</td>\n",
       "      <td>5</td>\n",
       "    </tr>\n",
       "  </tbody>\n",
       "</table>\n",
       "</div>"
      ],
      "text/plain": [
       "  index  MPG\n",
       "0   bad   15\n",
       "1  good    5"
      ]
     },
     "execution_count": 98,
     "metadata": {},
     "output_type": "execute_result"
    }
   ],
   "source": [
    "# your code here\n",
    "df['MPG'].value_counts().reset_index()\n",
    "#  the most common MPG value is 'bad'"
   ]
  },
  {
   "cell_type": "code",
   "execution_count": 99,
   "metadata": {},
   "outputs": [],
   "source": [
    "def InformationGain(goodY,badY,goodN,badN):\n",
    "    def F(X,Y):\n",
    "        val1 = X*np.log2(1.*(X+Y)/X) if X>0 else 0\n",
    "        val2 = Y*np.log2(1.*(X+Y)/Y) if Y>0 else 0\n",
    "        return val1+val2\n",
    "    return (F(goodY+goodN,badY+badN)-F(goodY,badY)-F(goodN,badN)) / (goodY+goodN+badY+badN)"
   ]
  },
  {
   "cell_type": "markdown",
   "metadata": {},
   "source": [
    "b) Enumerate all the possible binary questions you could ask for each discrete-valued variable.  For each such split, compute the numbers of \"good\" and \"bad\" MPG vehicles in each of the two child nodes, and compute the information gain using the provided function above. (5 pts)"
   ]
  },
  {
   "cell_type": "code",
   "execution_count": 100,
   "metadata": {},
   "outputs": [],
   "source": [
    "def count_good_bad_discrete(label, value):\n",
    "    global goodY, badY, goodN, badN\n",
    "    goodY = 0\n",
    "    badY = 0\n",
    "    goodN = 0\n",
    "    badN = 0\n",
    "    for i in range(len(df)):\n",
    "        if df[label].iloc[i] == value:\n",
    "            if df['MPG'].iloc[i] == 'good':    # goodY\n",
    "                goodY += 1\n",
    "            elif df['MPG'].iloc[i] == 'bad':   # badY\n",
    "                badY += 1\n",
    "        elif df[label].iloc[i] != value and df['MPG'].iloc[i] == 'good':\n",
    "            goodN += 1                         # goodN\n",
    "        else:\n",
    "            badN += 1                          # badN\n",
    "    return(goodY, badY, goodN, badN)"
   ]
  },
  {
   "cell_type": "code",
   "execution_count": 101,
   "metadata": {},
   "outputs": [
    {
     "name": "stdout",
     "output_type": "stream",
     "text": [
      "Cylinders = 4 ? Good = 5, Bad = 4, InformationGain = 0.365294\n",
      "Cylinders = 6 ? Good = 0, Bad = 6, InformationGain = 0.153078\n",
      "Cylinders = 8 ? Good = 0, Bad = 5, InformationGain = 0.122556\n"
     ]
    }
   ],
   "source": [
    "cylinder_lable = df['cylinders'].unique()\n",
    "\n",
    "for i in range(len(cylinder_lable)):\n",
    "    print('Cylinders = %d ? Good = %d, Bad = %d, InformationGain = %f'%(cylinder_lable[i], \n",
    "                                                  count_good_bad_discrete('cylinders', cylinder_lable[i])[0], \n",
    "                                                  count_good_bad_discrete('cylinders', cylinder_lable[i])[1],\n",
    "                                                                        InformationGain(goodY, badY, goodN, badN)))"
   ]
  },
  {
   "cell_type": "code",
   "execution_count": 102,
   "metadata": {},
   "outputs": [
    {
     "name": "stdout",
     "output_type": "stream",
     "text": [
      "Weight = light ? Good = 3, Bad = 3, InformationGain = 0.097107\n",
      "Weight = medium ? Good = 2, Bad = 6, InformationGain = 0.000000\n",
      "Weight = weighty ? Good = 0, Bad = 6, InformationGain = 0.153078\n"
     ]
    }
   ],
   "source": [
    "weight_lable = df['weight'].unique()\n",
    "\n",
    "for i in range(len(weight_lable)):\n",
    "    print('Weight = %s ? Good = %d, Bad = %d, InformationGain = %f'%(weight_lable[i], \n",
    "                                                  count_good_bad_discrete('weight', weight_lable[i])[0], \n",
    "                                                  count_good_bad_discrete('weight', weight_lable[i])[1],\n",
    "                                                                        InformationGain(goodY, badY, goodN, badN)))"
   ]
  },
  {
   "cell_type": "markdown",
   "metadata": {},
   "source": [
    "c) Enumerate all the possible binary questions you could ask for the real-valued variable HP.  For each such split, compute the numbers of \"good\" and \"bad\" MPG vehicles in each of the two child nodes, and compute the information gain using the provided function above. (5 pts) \n",
    "\n",
    "NOTE: if you'd like, you can just use all midpoints between consecutive values of the sorted HP attribute.  You are not required to exclude provably suboptimal questions like we did in the lecture."
   ]
  },
  {
   "cell_type": "code",
   "execution_count": 138,
   "metadata": {},
   "outputs": [
    {
     "data": {
      "text/html": [
       "<div>\n",
       "<table border=\"1\" class=\"dataframe\">\n",
       "  <thead>\n",
       "    <tr style=\"text-align: right;\">\n",
       "      <th></th>\n",
       "      <th>MPG</th>\n",
       "      <th>cylinders</th>\n",
       "      <th>HP</th>\n",
       "      <th>weight</th>\n",
       "    </tr>\n",
       "  </thead>\n",
       "  <tbody>\n",
       "    <tr>\n",
       "      <th>0</th>\n",
       "      <td>good</td>\n",
       "      <td>4</td>\n",
       "      <td>65</td>\n",
       "      <td>light</td>\n",
       "    </tr>\n",
       "    <tr>\n",
       "      <th>1</th>\n",
       "      <td>good</td>\n",
       "      <td>4</td>\n",
       "      <td>75</td>\n",
       "      <td>light</td>\n",
       "    </tr>\n",
       "    <tr>\n",
       "      <th>2</th>\n",
       "      <td>good</td>\n",
       "      <td>4</td>\n",
       "      <td>81</td>\n",
       "      <td>light</td>\n",
       "    </tr>\n",
       "    <tr>\n",
       "      <th>3</th>\n",
       "      <td>bad</td>\n",
       "      <td>6</td>\n",
       "      <td>85</td>\n",
       "      <td>medium</td>\n",
       "    </tr>\n",
       "    <tr>\n",
       "      <th>4</th>\n",
       "      <td>good</td>\n",
       "      <td>4</td>\n",
       "      <td>89</td>\n",
       "      <td>medium</td>\n",
       "    </tr>\n",
       "    <tr>\n",
       "      <th>5</th>\n",
       "      <td>bad</td>\n",
       "      <td>6</td>\n",
       "      <td>90</td>\n",
       "      <td>medium</td>\n",
       "    </tr>\n",
       "    <tr>\n",
       "      <th>6</th>\n",
       "      <td>good</td>\n",
       "      <td>4</td>\n",
       "      <td>92</td>\n",
       "      <td>medium</td>\n",
       "    </tr>\n",
       "    <tr>\n",
       "      <th>7</th>\n",
       "      <td>bad</td>\n",
       "      <td>4</td>\n",
       "      <td>93</td>\n",
       "      <td>light</td>\n",
       "    </tr>\n",
       "    <tr>\n",
       "      <th>8</th>\n",
       "      <td>bad</td>\n",
       "      <td>4</td>\n",
       "      <td>94</td>\n",
       "      <td>light</td>\n",
       "    </tr>\n",
       "    <tr>\n",
       "      <th>9</th>\n",
       "      <td>bad</td>\n",
       "      <td>6</td>\n",
       "      <td>95</td>\n",
       "      <td>medium</td>\n",
       "    </tr>\n",
       "    <tr>\n",
       "      <th>10</th>\n",
       "      <td>bad</td>\n",
       "      <td>4</td>\n",
       "      <td>95</td>\n",
       "      <td>light</td>\n",
       "    </tr>\n",
       "    <tr>\n",
       "      <th>11</th>\n",
       "      <td>bad</td>\n",
       "      <td>6</td>\n",
       "      <td>95</td>\n",
       "      <td>medium</td>\n",
       "    </tr>\n",
       "    <tr>\n",
       "      <th>12</th>\n",
       "      <td>bad</td>\n",
       "      <td>6</td>\n",
       "      <td>100</td>\n",
       "      <td>medium</td>\n",
       "    </tr>\n",
       "    <tr>\n",
       "      <th>13</th>\n",
       "      <td>bad</td>\n",
       "      <td>6</td>\n",
       "      <td>100</td>\n",
       "      <td>weighty</td>\n",
       "    </tr>\n",
       "    <tr>\n",
       "      <th>14</th>\n",
       "      <td>bad</td>\n",
       "      <td>4</td>\n",
       "      <td>110</td>\n",
       "      <td>medium</td>\n",
       "    </tr>\n",
       "    <tr>\n",
       "      <th>15</th>\n",
       "      <td>bad</td>\n",
       "      <td>8</td>\n",
       "      <td>139</td>\n",
       "      <td>weighty</td>\n",
       "    </tr>\n",
       "    <tr>\n",
       "      <th>16</th>\n",
       "      <td>bad</td>\n",
       "      <td>8</td>\n",
       "      <td>145</td>\n",
       "      <td>weighty</td>\n",
       "    </tr>\n",
       "    <tr>\n",
       "      <th>17</th>\n",
       "      <td>bad</td>\n",
       "      <td>8</td>\n",
       "      <td>170</td>\n",
       "      <td>weighty</td>\n",
       "    </tr>\n",
       "    <tr>\n",
       "      <th>18</th>\n",
       "      <td>bad</td>\n",
       "      <td>8</td>\n",
       "      <td>175</td>\n",
       "      <td>weighty</td>\n",
       "    </tr>\n",
       "    <tr>\n",
       "      <th>19</th>\n",
       "      <td>bad</td>\n",
       "      <td>8</td>\n",
       "      <td>190</td>\n",
       "      <td>weighty</td>\n",
       "    </tr>\n",
       "  </tbody>\n",
       "</table>\n",
       "</div>"
      ],
      "text/plain": [
       "     MPG  cylinders   HP   weight\n",
       "0   good          4   65    light\n",
       "1   good          4   75    light\n",
       "2   good          4   81    light\n",
       "3    bad          6   85   medium\n",
       "4   good          4   89   medium\n",
       "5    bad          6   90   medium\n",
       "6   good          4   92   medium\n",
       "7    bad          4   93    light\n",
       "8    bad          4   94    light\n",
       "9    bad          6   95   medium\n",
       "10   bad          4   95    light\n",
       "11   bad          6   95   medium\n",
       "12   bad          6  100   medium\n",
       "13   bad          6  100  weighty\n",
       "14   bad          4  110   medium\n",
       "15   bad          8  139  weighty\n",
       "16   bad          8  145  weighty\n",
       "17   bad          8  170  weighty\n",
       "18   bad          8  175  weighty\n",
       "19   bad          8  190  weighty"
      ]
     },
     "execution_count": 138,
     "metadata": {},
     "output_type": "execute_result"
    }
   ],
   "source": [
    "df_sort_hp = df.sort_values('HP').reset_index(drop = True)\n",
    "df_sort_hp"
   ]
  },
  {
   "cell_type": "code",
   "execution_count": 139,
   "metadata": {},
   "outputs": [],
   "source": [
    "def count_good_bad_real(label, value):\n",
    "    global goodY, badY, goodN, badN\n",
    "    goodY = 0\n",
    "    badY = 0\n",
    "    goodN = 0\n",
    "    badN = 0\n",
    "    for i in range(len(df)):\n",
    "        if df[label].iloc[i] > value:\n",
    "            if df['MPG'].iloc[i] == 'good':    # goodY\n",
    "                goodY += 1\n",
    "            elif df['MPG'].iloc[i] == 'bad':   # badY\n",
    "                badY += 1\n",
    "        elif df[label].iloc[i] <= value and df['MPG'].iloc[i] == 'good':\n",
    "            goodN += 1\n",
    "        else:\n",
    "            badN += 1\n",
    "    return(goodY, badY, goodN, badN)"
   ]
  },
  {
   "cell_type": "code",
   "execution_count": 152,
   "metadata": {},
   "outputs": [
    {
     "name": "stdout",
     "output_type": "stream",
     "text": [
      "HP > 83.00 ? Good = 2, Bad = 15, InformationGain = 0.367103\n",
      "HP > 87.00 ? Good = 2, Bad = 14, InformationGain = 0.214171\n",
      "HP > 89.50 ? Good = 1, Bad = 14, InformationGain = 0.365777\n",
      "HP > 91.00 ? Good = 1, Bad = 13, InformationGain = 0.275927\n",
      "HP > 92.50 ? Good = 0, Bad = 13, InformationGain = 0.509186\n"
     ]
    }
   ],
   "source": [
    "for i, j in df_sort_hp.iterrows():\n",
    "    HP_label = [0.5 * (df_sort_hp.loc[i]['HP'] + df_sort_hp.loc[i+1]['HP'])]\n",
    "    if i+1 == len(df_sort_hp) - 1:\n",
    "        break\n",
    "    else:\n",
    "        if df_sort_hp.loc[i]['MPG'] != df_sort_hp.loc[i+1]['MPG']:\n",
    "            for k in range(len(HP_label)):\n",
    "                print('HP > %.2f ? Good = %d, Bad = %d, InformationGain = %f'%(HP_label[k], \n",
    "                                                  count_good_bad_real('HP', HP_label[k])[0], \n",
    "                                                  count_good_bad_real('HP', HP_label[k])[1],\n",
    "                                                                        InformationGain(goodY, badY, goodN, badN)))"
   ]
  },
  {
   "cell_type": "markdown",
   "metadata": {},
   "source": [
    "d) Based on your results for parts b and c, what is the optimal binary split of the data?  Of the two child nodes created by this split, which (if any) would require further partitioning? (4 pts)"
   ]
  },
  {
   "cell_type": "markdown",
   "metadata": {},
   "source": [
    "Answer:\n",
    "\n",
    "The InformationGain of 'HP > 92.50?'is the highest, so it's the optimal binary split.\n",
    "\n",
    "One of child nodes 'Good' needs further partitioning."
   ]
  },
  {
   "cell_type": "markdown",
   "metadata": {},
   "source": [
    "e) Repeat parts a through d until all training data points are perfectly classified by the resulting tree. (6 pts)"
   ]
  },
  {
   "cell_type": "code",
   "execution_count": 153,
   "metadata": {},
   "outputs": [],
   "source": [
    "df_HP_92 = df[df['HP'] < 92.5].reset_index(drop = True)"
   ]
  },
  {
   "cell_type": "code",
   "execution_count": 154,
   "metadata": {},
   "outputs": [
    {
     "data": {
      "text/html": [
       "<div>\n",
       "<table border=\"1\" class=\"dataframe\">\n",
       "  <thead>\n",
       "    <tr style=\"text-align: right;\">\n",
       "      <th></th>\n",
       "      <th>MPG</th>\n",
       "      <th>cylinders</th>\n",
       "      <th>HP</th>\n",
       "      <th>weight</th>\n",
       "    </tr>\n",
       "  </thead>\n",
       "  <tbody>\n",
       "    <tr>\n",
       "      <th>0</th>\n",
       "      <td>good</td>\n",
       "      <td>4</td>\n",
       "      <td>65</td>\n",
       "      <td>light</td>\n",
       "    </tr>\n",
       "    <tr>\n",
       "      <th>1</th>\n",
       "      <td>good</td>\n",
       "      <td>4</td>\n",
       "      <td>75</td>\n",
       "      <td>light</td>\n",
       "    </tr>\n",
       "    <tr>\n",
       "      <th>2</th>\n",
       "      <td>good</td>\n",
       "      <td>4</td>\n",
       "      <td>81</td>\n",
       "      <td>light</td>\n",
       "    </tr>\n",
       "    <tr>\n",
       "      <th>3</th>\n",
       "      <td>bad</td>\n",
       "      <td>6</td>\n",
       "      <td>85</td>\n",
       "      <td>medium</td>\n",
       "    </tr>\n",
       "    <tr>\n",
       "      <th>4</th>\n",
       "      <td>good</td>\n",
       "      <td>4</td>\n",
       "      <td>89</td>\n",
       "      <td>medium</td>\n",
       "    </tr>\n",
       "    <tr>\n",
       "      <th>5</th>\n",
       "      <td>bad</td>\n",
       "      <td>6</td>\n",
       "      <td>90</td>\n",
       "      <td>medium</td>\n",
       "    </tr>\n",
       "    <tr>\n",
       "      <th>6</th>\n",
       "      <td>good</td>\n",
       "      <td>4</td>\n",
       "      <td>92</td>\n",
       "      <td>medium</td>\n",
       "    </tr>\n",
       "  </tbody>\n",
       "</table>\n",
       "</div>"
      ],
      "text/plain": [
       "    MPG  cylinders  HP  weight\n",
       "0  good          4  65   light\n",
       "1  good          4  75   light\n",
       "2  good          4  81   light\n",
       "3   bad          6  85  medium\n",
       "4  good          4  89  medium\n",
       "5   bad          6  90  medium\n",
       "6  good          4  92  medium"
      ]
     },
     "execution_count": 154,
     "metadata": {},
     "output_type": "execute_result"
    }
   ],
   "source": [
    "df_sort_hp_92 = df_HP_92.sort_values('HP').reset_index(drop = True)\n",
    "df_sort_hp_92"
   ]
  },
  {
   "cell_type": "code",
   "execution_count": 174,
   "metadata": {},
   "outputs": [],
   "source": [
    "def count_good_bad_discrete_2(label, value):\n",
    "    global goodY, badY, goodN, badN\n",
    "    goodY = 0\n",
    "    badY = 0\n",
    "    goodN = 0\n",
    "    badN = 0\n",
    "    for i in range(len(df_HP_92)):\n",
    "        if df_HP_92[label].iloc[i] == value:\n",
    "            if df_HP_92['MPG'].iloc[i] == 'good':    # goodY\n",
    "                goodY += 1\n",
    "            elif df_HP_92['MPG'].iloc[i] == 'bad':   # badY\n",
    "                badY += 1\n",
    "        elif df_HP_92[label].iloc[i] != value and df_HP_92['MPG'].iloc[i] == 'good':\n",
    "            goodN += 1                         # goodN\n",
    "        else:\n",
    "            badN += 1                          # badN\n",
    "    return(goodY, badY, goodN, badN)"
   ]
  },
  {
   "cell_type": "code",
   "execution_count": 178,
   "metadata": {},
   "outputs": [],
   "source": [
    "def count_good_bad_real_2(label, value):\n",
    "    global goodY, badY, goodN, badN\n",
    "    goodY = 0\n",
    "    badY = 0\n",
    "    goodN = 0\n",
    "    badN = 0\n",
    "    for i in range(len(df_HP_92)):\n",
    "        if df_HP_92[label].iloc[i] > value:\n",
    "            if df_HP_92['MPG'].iloc[i] == 'good':    # goodY\n",
    "                goodY += 1\n",
    "            elif df_HP_92['MPG'].iloc[i] == 'bad':   # badY\n",
    "                badY += 1\n",
    "        elif df_HP_92[label].iloc[i] <= value and df_HP_92['MPG'].iloc[i] == 'good':\n",
    "            goodN += 1\n",
    "        else:\n",
    "            badN += 1\n",
    "    return(goodY, badY, goodN, badN)"
   ]
  },
  {
   "cell_type": "code",
   "execution_count": 180,
   "metadata": {},
   "outputs": [
    {
     "name": "stdout",
     "output_type": "stream",
     "text": [
      "HP > 83.00 ? Good = 2, Bad = 2, InformationGain = 0.291692\n",
      "HP > 87.00 ? Good = 2, Bad = 1, InformationGain = 0.005978\n",
      "HP > 89.50 ? Good = 1, Bad = 1, InformationGain = 0.061743\n",
      "HP > 91.00 ? Good = 1, Bad = 0, InformationGain = 0.076010\n"
     ]
    }
   ],
   "source": [
    "for i, j in df_sort_hp_92.iterrows():\n",
    "    if i+1 == len(df_sort_hp_92):\n",
    "        break\n",
    "    else:\n",
    "        HP_label = [0.5 * (df_sort_hp_92.loc[i]['HP'] + df_sort_hp_92.loc[i+1]['HP'])]\n",
    "        if df_sort_hp_92.loc[i]['MPG'] != df_sort_hp_92.loc[i+1]['MPG']:\n",
    "            for k in range(len(HP_label)):\n",
    "                print('HP > %.2f ? Good = %d, Bad = %d, InformationGain = %f'%(HP_label[k], \n",
    "                                                  count_good_bad_real_2('HP', HP_label[k])[0], \n",
    "                                                  count_good_bad_real_2('HP', HP_label[k])[1],\n",
    "                                                                        InformationGain(goodY, badY, goodN, badN)))"
   ]
  },
  {
   "cell_type": "code",
   "execution_count": 176,
   "metadata": {},
   "outputs": [
    {
     "name": "stdout",
     "output_type": "stream",
     "text": [
      "Cylinders = 4 ? Good = 5, Bad = 0, InformationGain = 0.863121\n",
      "Cylinders = 6 ? Good = 0, Bad = 2, InformationGain = 0.863121\n"
     ]
    }
   ],
   "source": [
    "cylinder_lable_6 = df_HP_92['cylinders'].unique()\n",
    "\n",
    "for i in range(len(cylinder_lable_6)):\n",
    "    print('Cylinders = %d ? Good = %d, Bad = %d, InformationGain = %f'%(cylinder_lable_6[i], \n",
    "                                                  count_good_bad_discrete_2('cylinders', cylinder_lable_6[i])[0], \n",
    "                                                  count_good_bad_discrete_2('cylinders', cylinder_lable_6[i])[1],\n",
    "                                                                        InformationGain(goodY, badY, goodN, badN)))"
   ]
  },
  {
   "cell_type": "code",
   "execution_count": 181,
   "metadata": {},
   "outputs": [
    {
     "name": "stdout",
     "output_type": "stream",
     "text": [
      "Weight = light ? Good = 3, Bad = 0, InformationGain = 0.291692\n",
      "Weight = medium ? Good = 2, Bad = 2, InformationGain = 0.291692\n"
     ]
    }
   ],
   "source": [
    "weight_lable_medium = df_HP_92['weight'].unique()\n",
    "\n",
    "for i in range(len(weight_lable_medium)):\n",
    "    print('Weight = %s ? Good = %d, Bad = %d, InformationGain = %f'%(weight_lable_medium[i], \n",
    "                                                  count_good_bad_discrete_2('weight', weight_lable_medium[i])[0], \n",
    "                                                  count_good_bad_discrete_2('weight', weight_lable_medium[i])[1],\n",
    "                                                                        InformationGain(goodY, badY, goodN, badN)))"
   ]
  },
  {
   "cell_type": "markdown",
   "metadata": {},
   "source": [
    "Answer:\n",
    "\n",
    "Cylinders = 4 ? Good = 5, Bad = 0, InformationGain = 0.863121\n",
    "\n",
    "no child node needs to be Partitioned"
   ]
  },
  {
   "cell_type": "markdown",
   "metadata": {},
   "source": [
    "f) Draw or show the final decision tree in a format of your choice.  The decision to make at each step and the predicted value at each leaf node must be clear. (4 pts)"
   ]
  },
  {
   "cell_type": "markdown",
   "metadata": {},
   "source": [
    "                               __________________\n",
    "                              |    HP > 92.5 ?   |\n",
    "                              |__________________|\n",
    "                                  N  /      \\ Y\n",
    "                    ________________/_       \\\n",
    "                   |  Cylinders = 4 ? |   ( BAD, 13)  \n",
    "                   |__________________|\n",
    "                       N  /      \\ Y\n",
    "                         /        \\\n",
    "                    ( BAD, 2)     ( GOOD, 5)"
   ]
  },
  {
   "cell_type": "markdown",
   "metadata": {},
   "source": [
    "g) Classify each of the following four vehicles as having \"good\" or \"bad\" fuel efficiency (miles per gallon).  Do this by hand using the tree structure learned in part f. (4 pts)\n",
    "\n",
    "Bad,8,70,light\n",
    "\n",
    "Bad,6,113,medium\n",
    "\n",
    "Good,4,83,weighty\n",
    "\n",
    "Bad,4,95,weighty\n"
   ]
  },
  {
   "cell_type": "markdown",
   "metadata": {},
   "source": [
    "### Question 3, Predicting burden of disease （40 pts)"
   ]
  },
  {
   "cell_type": "code",
   "execution_count": 5,
   "metadata": {},
   "outputs": [
    {
     "data": {
      "text/html": [
       "<div>\n",
       "<style scoped>\n",
       "    .dataframe tbody tr th:only-of-type {\n",
       "        vertical-align: middle;\n",
       "    }\n",
       "\n",
       "    .dataframe tbody tr th {\n",
       "        vertical-align: top;\n",
       "    }\n",
       "\n",
       "    .dataframe thead th {\n",
       "        text-align: right;\n",
       "    }\n",
       "</style>\n",
       "<table border=\"1\" class=\"dataframe\">\n",
       "  <thead>\n",
       "    <tr style=\"text-align: right;\">\n",
       "      <th></th>\n",
       "      <th>Country</th>\n",
       "      <th>FrxnPeaceIn10</th>\n",
       "      <th>ODA4H2OPcptaDol</th>\n",
       "      <th>RenewResm3PcptaYr</th>\n",
       "      <th>SustAccImprWatRur</th>\n",
       "      <th>SustAccImprWatUrb</th>\n",
       "      <th>SustAccImprSanRur</th>\n",
       "      <th>SustAccImprSanUrb</th>\n",
       "      <th>TotHlthExpPctofGDP</th>\n",
       "      <th>GenGovtPctofTotHlthExp</th>\n",
       "      <th>ExtResHlthPctTotExpHlth</th>\n",
       "      <th>PCptaGovtExpHlthAvgExcRt</th>\n",
       "      <th>GDPPCptaIntDol</th>\n",
       "      <th>AdultLtrcyRate</th>\n",
       "      <th>FemaleLtrcyRate</th>\n",
       "      <th>BurdenOfDisease</th>\n",
       "    </tr>\n",
       "  </thead>\n",
       "  <tbody>\n",
       "    <tr>\n",
       "      <th>0</th>\n",
       "      <td>Afghanistan</td>\n",
       "      <td>0.1</td>\n",
       "      <td>0.16</td>\n",
       "      <td>2986</td>\n",
       "      <td>0.10891</td>\n",
       "      <td>0.18812</td>\n",
       "      <td>0.049505</td>\n",
       "      <td>0.15842</td>\n",
       "      <td>0.065</td>\n",
       "      <td>0.395</td>\n",
       "      <td>0.4560</td>\n",
       "      <td>4</td>\n",
       "      <td>430</td>\n",
       "      <td>0.35644</td>\n",
       "      <td>0.20792</td>\n",
       "      <td>awful</td>\n",
       "    </tr>\n",
       "    <tr>\n",
       "      <th>1</th>\n",
       "      <td>Albania</td>\n",
       "      <td>1.0</td>\n",
       "      <td>5.58</td>\n",
       "      <td>13306</td>\n",
       "      <td>0.94059</td>\n",
       "      <td>0.98020</td>\n",
       "      <td>0.801980</td>\n",
       "      <td>0.98020</td>\n",
       "      <td>0.065</td>\n",
       "      <td>0.417</td>\n",
       "      <td>0.0340</td>\n",
       "      <td>49</td>\n",
       "      <td>6158</td>\n",
       "      <td>0.85644</td>\n",
       "      <td>0.78713</td>\n",
       "      <td>low</td>\n",
       "    </tr>\n",
       "    <tr>\n",
       "      <th>2</th>\n",
       "      <td>Algeria</td>\n",
       "      <td>0.0</td>\n",
       "      <td>0.33</td>\n",
       "      <td>473</td>\n",
       "      <td>0.79208</td>\n",
       "      <td>0.91089</td>\n",
       "      <td>0.811880</td>\n",
       "      <td>0.98020</td>\n",
       "      <td>0.041</td>\n",
       "      <td>0.808</td>\n",
       "      <td>0.0005</td>\n",
       "      <td>71</td>\n",
       "      <td>4860</td>\n",
       "      <td>0.69307</td>\n",
       "      <td>0.60396</td>\n",
       "      <td>high</td>\n",
       "    </tr>\n",
       "    <tr>\n",
       "      <th>3</th>\n",
       "      <td>Angola</td>\n",
       "      <td>0.2</td>\n",
       "      <td>0.63</td>\n",
       "      <td>14009</td>\n",
       "      <td>0.39604</td>\n",
       "      <td>0.69307</td>\n",
       "      <td>0.158420</td>\n",
       "      <td>0.55446</td>\n",
       "      <td>0.028</td>\n",
       "      <td>0.842</td>\n",
       "      <td>0.0670</td>\n",
       "      <td>22</td>\n",
       "      <td>1942</td>\n",
       "      <td>0.66139</td>\n",
       "      <td>0.53267</td>\n",
       "      <td>awful</td>\n",
       "    </tr>\n",
       "    <tr>\n",
       "      <th>4</th>\n",
       "      <td>Armenia</td>\n",
       "      <td>1.0</td>\n",
       "      <td>2.51</td>\n",
       "      <td>2780</td>\n",
       "      <td>0.79208</td>\n",
       "      <td>0.98020</td>\n",
       "      <td>0.603960</td>\n",
       "      <td>0.95050</td>\n",
       "      <td>0.060</td>\n",
       "      <td>0.202</td>\n",
       "      <td>0.1720</td>\n",
       "      <td>11</td>\n",
       "      <td>5697</td>\n",
       "      <td>0.97624</td>\n",
       "      <td>0.97030</td>\n",
       "      <td>low</td>\n",
       "    </tr>\n",
       "    <tr>\n",
       "      <th>5</th>\n",
       "      <td>Australia</td>\n",
       "      <td>1.0</td>\n",
       "      <td>0.00</td>\n",
       "      <td>25708</td>\n",
       "      <td>0.99010</td>\n",
       "      <td>0.99010</td>\n",
       "      <td>0.990100</td>\n",
       "      <td>0.99010</td>\n",
       "      <td>0.095</td>\n",
       "      <td>0.675</td>\n",
       "      <td>0.0005</td>\n",
       "      <td>1699</td>\n",
       "      <td>31454</td>\n",
       "      <td>0.98020</td>\n",
       "      <td>0.98020</td>\n",
       "      <td>low</td>\n",
       "    </tr>\n",
       "    <tr>\n",
       "      <th>6</th>\n",
       "      <td>Azerbaijan</td>\n",
       "      <td>0.9</td>\n",
       "      <td>1.30</td>\n",
       "      <td>3765</td>\n",
       "      <td>0.58416</td>\n",
       "      <td>0.94059</td>\n",
       "      <td>0.356440</td>\n",
       "      <td>0.72277</td>\n",
       "      <td>0.036</td>\n",
       "      <td>0.238</td>\n",
       "      <td>0.0190</td>\n",
       "      <td>8</td>\n",
       "      <td>4337</td>\n",
       "      <td>0.97822</td>\n",
       "      <td>0.97228</td>\n",
       "      <td>medium</td>\n",
       "    </tr>\n",
       "    <tr>\n",
       "      <th>7</th>\n",
       "      <td>Bahamas</td>\n",
       "      <td>1.0</td>\n",
       "      <td>0.00</td>\n",
       "      <td>66</td>\n",
       "      <td>0.85149</td>\n",
       "      <td>0.97030</td>\n",
       "      <td>0.990100</td>\n",
       "      <td>0.99010</td>\n",
       "      <td>0.064</td>\n",
       "      <td>0.475</td>\n",
       "      <td>0.0020</td>\n",
       "      <td>533</td>\n",
       "      <td>19930</td>\n",
       "      <td>0.94653</td>\n",
       "      <td>0.95545</td>\n",
       "      <td>low</td>\n",
       "    </tr>\n",
       "    <tr>\n",
       "      <th>8</th>\n",
       "      <td>Bangladesh</td>\n",
       "      <td>1.0</td>\n",
       "      <td>0.47</td>\n",
       "      <td>8809</td>\n",
       "      <td>0.71287</td>\n",
       "      <td>0.81188</td>\n",
       "      <td>0.386140</td>\n",
       "      <td>0.74257</td>\n",
       "      <td>0.034</td>\n",
       "      <td>0.313</td>\n",
       "      <td>0.1240</td>\n",
       "      <td>4</td>\n",
       "      <td>2098</td>\n",
       "      <td>0.42673</td>\n",
       "      <td>0.31485</td>\n",
       "      <td>high</td>\n",
       "    </tr>\n",
       "    <tr>\n",
       "      <th>9</th>\n",
       "      <td>Barbados</td>\n",
       "      <td>1.0</td>\n",
       "      <td>0.17</td>\n",
       "      <td>301</td>\n",
       "      <td>0.99010</td>\n",
       "      <td>0.99010</td>\n",
       "      <td>0.990100</td>\n",
       "      <td>0.98020</td>\n",
       "      <td>0.069</td>\n",
       "      <td>0.694</td>\n",
       "      <td>0.0270</td>\n",
       "      <td>479</td>\n",
       "      <td>16240</td>\n",
       "      <td>0.98713</td>\n",
       "      <td>0.98713</td>\n",
       "      <td>low</td>\n",
       "    </tr>\n",
       "  </tbody>\n",
       "</table>\n",
       "</div>"
      ],
      "text/plain": [
       "       Country  FrxnPeaceIn10  ODA4H2OPcptaDol  RenewResm3PcptaYr  \\\n",
       "0  Afghanistan            0.1             0.16               2986   \n",
       "1      Albania            1.0             5.58              13306   \n",
       "2      Algeria            0.0             0.33                473   \n",
       "3       Angola            0.2             0.63              14009   \n",
       "4      Armenia            1.0             2.51               2780   \n",
       "5    Australia            1.0             0.00              25708   \n",
       "6   Azerbaijan            0.9             1.30               3765   \n",
       "7      Bahamas            1.0             0.00                 66   \n",
       "8   Bangladesh            1.0             0.47               8809   \n",
       "9     Barbados            1.0             0.17                301   \n",
       "\n",
       "   SustAccImprWatRur  SustAccImprWatUrb  SustAccImprSanRur  SustAccImprSanUrb  \\\n",
       "0            0.10891            0.18812           0.049505            0.15842   \n",
       "1            0.94059            0.98020           0.801980            0.98020   \n",
       "2            0.79208            0.91089           0.811880            0.98020   \n",
       "3            0.39604            0.69307           0.158420            0.55446   \n",
       "4            0.79208            0.98020           0.603960            0.95050   \n",
       "5            0.99010            0.99010           0.990100            0.99010   \n",
       "6            0.58416            0.94059           0.356440            0.72277   \n",
       "7            0.85149            0.97030           0.990100            0.99010   \n",
       "8            0.71287            0.81188           0.386140            0.74257   \n",
       "9            0.99010            0.99010           0.990100            0.98020   \n",
       "\n",
       "   TotHlthExpPctofGDP  GenGovtPctofTotHlthExp  ExtResHlthPctTotExpHlth  \\\n",
       "0               0.065                   0.395                   0.4560   \n",
       "1               0.065                   0.417                   0.0340   \n",
       "2               0.041                   0.808                   0.0005   \n",
       "3               0.028                   0.842                   0.0670   \n",
       "4               0.060                   0.202                   0.1720   \n",
       "5               0.095                   0.675                   0.0005   \n",
       "6               0.036                   0.238                   0.0190   \n",
       "7               0.064                   0.475                   0.0020   \n",
       "8               0.034                   0.313                   0.1240   \n",
       "9               0.069                   0.694                   0.0270   \n",
       "\n",
       "   PCptaGovtExpHlthAvgExcRt  GDPPCptaIntDol  AdultLtrcyRate  FemaleLtrcyRate  \\\n",
       "0                         4             430         0.35644          0.20792   \n",
       "1                        49            6158         0.85644          0.78713   \n",
       "2                        71            4860         0.69307          0.60396   \n",
       "3                        22            1942         0.66139          0.53267   \n",
       "4                        11            5697         0.97624          0.97030   \n",
       "5                      1699           31454         0.98020          0.98020   \n",
       "6                         8            4337         0.97822          0.97228   \n",
       "7                       533           19930         0.94653          0.95545   \n",
       "8                         4            2098         0.42673          0.31485   \n",
       "9                       479           16240         0.98713          0.98713   \n",
       "\n",
       "  BurdenOfDisease  \n",
       "0           awful  \n",
       "1             low  \n",
       "2            high  \n",
       "3           awful  \n",
       "4             low  \n",
       "5             low  \n",
       "6          medium  \n",
       "7             low  \n",
       "8            high  \n",
       "9             low  "
      ]
     },
     "execution_count": 5,
     "metadata": {},
     "output_type": "execute_result"
    }
   ],
   "source": [
    "data=pd.read_csv(\"Burden of diarrheal illness by country.csv\")\n",
    "data.head(10)"
   ]
  },
  {
   "cell_type": "markdown",
   "metadata": {},
   "source": [
    "### Data dictionary\n",
    "\n",
    "NAME: Burden of diarrheal illness by country\n",
    "\n",
    "SIZE: 130 Countries, 16 Variables\n",
    "\n",
    "VARIABLE DESCRIPTIONS:\n",
    "\n",
    "Country: Country name\n",
    "\n",
    "FrxnPeaceIn10: Fraction of the past ten years in which a country has been at peace \n",
    "\n",
    "ODA4H2OPcptaDol: Per Capita Official Developmental Assistance for water projects\n",
    "\n",
    "RenewResm3PcptaYr: Renewable Water Resources in cubic meters per capita per year\n",
    "\n",
    "SustAccImprWatRur: Fraction of rural population with sustainable access to improved water\n",
    "\n",
    "SustAccImprWatUrb: Fraction of urban population with sustainable access to improved water\n",
    "\n",
    "SustAccImprSanRur: Fraction of rural population with sustainable access to improved sanitation\n",
    "\n",
    "SustAccImprSanUrb: Fraction of urban population with sustainable access to improved sanitation\n",
    "\n",
    "TotHlthExpPctofGDP: Fraction of a country's GDP devoted to health spending\n",
    "\n",
    "GenGovtPctofTotHlthExp: The fraction of total health expenditures for a country which is provided by the government\n",
    "\n",
    "ExtResHlthPctTotExpHlth: The fraction of total health expenditures for a country which is comes from sources external to the country\n",
    "\n",
    "PCptaGovtExpHlthAvgExcRt: Per Capita Government Health Expenditures at the average exchange rate\n",
    "\n",
    "GDPPCptaIntDol: Gross Domestic Product per capita in international dollars\n",
    "\n",
    "AdultLtrcyRate: Adult Literacy rate\n",
    "\n",
    "FemaleLtrcyRate: Female Literacy rate\n",
    "\n",
    "BurdenOfDisease: Our target variable for classification.  The burden of disease due to diarrheal illness, categorized into \"low\", \"medium\", \"high\", and \"awful\" quartiles.  For each country, we have estimates of the number of Disability-Adjusted Life Years lost per 1000 persons per year (DALYs) due to diarrheal illness.  Countries with \"low\" burden of disease have up to 2.75345 DALYs; countries with \"medium\" burden of disease have between 2.75345 and 8.2127 DALYs; countries with \"high\" burden of disease have between 8.2127 and 26.699 DALYs; and countries with \"awful\" burden of diease have more than 26.699 DALYs."
   ]
  },
  {
   "cell_type": "markdown",
   "metadata": {},
   "source": [
    "### Your goal is to train a decision tree classifier for the attribute “BurdenOfDisease\" using all other variables (except country name) as features with sklearn.tree.DecisionTreeClassifier. \n",
    "http://scikit-learn.org/stable/modules/generated/sklearn.tree.DecisionTreeClassifier.html"
   ]
  },
  {
   "cell_type": "markdown",
   "metadata": {},
   "source": [
    "a) Please choose a train/test split and choose a hyper-parameter governing model simplicity, for example, the maximum tree depth or maximum number of leaf nodes. Then, fit your decision tree classifier (using the training set) for different values of this parameter and for each such value, record the corresponding classification accuracy on the test set. (10 pts)"
   ]
  },
  {
   "cell_type": "code",
   "execution_count": 72,
   "metadata": {},
   "outputs": [],
   "source": [
    "from sklearn.model_selection import train_test_split\n",
    "from sklearn.tree import DecisionTreeClassifier"
   ]
  },
  {
   "cell_type": "code",
   "execution_count": 119,
   "metadata": {},
   "outputs": [],
   "source": [
    "data = data.dropna()"
   ]
  },
  {
   "cell_type": "code",
   "execution_count": 120,
   "metadata": {},
   "outputs": [],
   "source": [
    "y = data.loc[:, 'BurdenOfDisease']\n",
    "X = data.loc[:, 'FrxnPeaceIn10':'FemaleLtrcyRate']"
   ]
  },
  {
   "cell_type": "code",
   "execution_count": 121,
   "metadata": {},
   "outputs": [
    {
     "name": "stdout",
     "output_type": "stream",
     "text": [
      "For max_depth = 1, OS accuracy: 0.487179\n",
      "For max_depth = 2, OS accuracy: 0.615385\n",
      "For max_depth = 3, OS accuracy: 0.564103\n",
      "For max_depth = 4, OS accuracy: 0.512821\n",
      "For max_depth = 5, OS accuracy: 0.538462\n",
      "For max_depth = 6, OS accuracy: 0.538462\n",
      "For max_depth = 7, OS accuracy: 0.538462\n",
      "For max_depth = 8, OS accuracy: 0.538462\n",
      "For max_depth = 9, OS accuracy: 0.538462\n",
      "For max_depth = 10, OS accuracy: 0.538462\n"
     ]
    }
   ],
   "source": [
    "OS_score = []\n",
    "for i in range(1, 11):\n",
    "    X_train,X_test,y_train,y_test=train_test_split(X, y, test_size=0.3, random_state=6666)\n",
    "    dt = DecisionTreeClassifier(max_depth = i, random_state=6666)\n",
    "    dt.fit(X_train, y_train)\n",
    "    OS_score.append(dt.score(X_test,y_test))\n",
    "    print ('For max_depth = %d, OS accuracy: %f' %(i, OS_score[i-1]))"
   ]
  },
  {
   "cell_type": "markdown",
   "metadata": {},
   "source": [
    "b) Make a plot of accuracy vs. simplicity for different values of the hyper-parameter chosen in part a). That is, the x-axis should be hyper-parameter value (e.g. tree depth) and the y-axis should be accuracy. (10 pts)"
   ]
  },
  {
   "cell_type": "code",
   "execution_count": 122,
   "metadata": {},
   "outputs": [
    {
     "data": {
      "image/png": "[encoded data removed]",
      "text/plain": [
       "<Figure size 504x360 with 1 Axes>"
      ]
     },
     "metadata": {},
     "output_type": "display_data"
    }
   ],
   "source": [
    "import matplotlib.pylab as plt\n",
    "\n",
    "x = range(1, 11)\n",
    "y = OS_score\n",
    "\n",
    "plt.figure(figsize=(7,5))\n",
    "plt.plot(x, y)\n",
    "plt.xlabel(\"Hyper-parameter value - tree depth\")\n",
    "plt.ylabel(\"Accuracy\")\n",
    "plt.title(\"Accuracy vs Simplicity (max leaf nodes)\")\n",
    "plt.show()"
   ]
  },
  {
   "cell_type": "markdown",
   "metadata": {},
   "source": [
    "c) Tune the hyper-parameter you choose in part a) by cross-validation using the training data. You can choose to use the GridSearchCV package from sklearn or write your own code to do cross-validation by spliting the training data into training and validation data. What is the out of sample accuracy after tuning the hyper-parameter? (10 pts)"
   ]
  },
  {
   "cell_type": "code",
   "execution_count": 123,
   "metadata": {},
   "outputs": [
    {
     "name": "stdout",
     "output_type": "stream",
     "text": [
      "{'max_depth': 4}\n",
      "0.5128205128205128\n"
     ]
    }
   ],
   "source": [
    "from sklearn.model_selection import GridSearchCV\n",
    "\n",
    "param_grid = {'max_depth':range(1,11)}\n",
    "gr = GridSearchCV(dt, param_grid = param_grid)\n",
    "rs = gr.fit(X_train,y_train)\n",
    "\n",
    "dt_best = DecisionTreeClassifier(max_depth = rs.best_params_['max_depth'], random_state=6666)\n",
    "dt_best.fit(X_train, y_train)\n",
    "\n",
    "print( rs.best_params_)\n",
    "print( dt_best.score(X_test,y_test))"
   ]
  },
  {
   "cell_type": "markdown",
   "metadata": {},
   "source": [
    "d) Visualize a simple decision tree (e.g., with max_depth = 2 or 3) learned from the data.  To do so, given your decision tree dt, you can use the code below, then copy and paste the resulting output into http://www.webgraphviz.com.  Alternatively, if you have graphviz installed on your machine, you can use that. (5 pts)"
   ]
  },
  {
   "cell_type": "code",
   "execution_count": 124,
   "metadata": {
    "scrolled": false
   },
   "outputs": [
    {
     "name": "stdout",
     "output_type": "stream",
     "text": [
      "digraph Tree {\n",
      "node [shape=box, style=\"filled, rounded\", color=\"black\", fontname=helvetica] ;\n",
      "edge [fontname=helvetica] ;\n",
      "0 [label=\"GDPPCptaIntDol <= 2411.0, samples = 91, value = [20, 24, 26, 21], class = low\", fillcolor=\"#399de508\"] ;\n",
      "1 [label=\"GDPPCptaIntDol <= 1104.0, samples = 35, value = [19, 16, 0, 0], class = awful\", fillcolor=\"#e5813928\"] ;\n",
      "0 -> 1 [labeldistance=2.5, labelangle=45, headlabel=\"True\"] ;\n",
      "2 [label=\"SustAccImprWatRur <= 0.861, samples = 13, value = [12, 1, 0, 0], class = awful\", fillcolor=\"#e58139ea\"] ;\n",
      "1 -> 2 ;\n",
      "3 [label=\"samples = 12, value = [12, 0, 0, 0], class = awful\", fillcolor=\"#e58139ff\"] ;\n",
      "2 -> 3 ;\n",
      "4 [label=\"samples = 1, value = [0, 1, 0, 0], class = high\", fillcolor=\"#47e539ff\"] ;\n",
      "2 -> 4 ;\n",
      "5 [label=\"SustAccImprSanRur <= 0.144, samples = 22, value = [7, 15, 0, 0], class = high\", fillcolor=\"#47e53988\"] ;\n",
      "1 -> 5 ;\n",
      "6 [label=\"GDPPCptaIntDol <= 1165.5, samples = 7, value = [6, 1, 0, 0], class = awful\", fillcolor=\"#e58139d4\"] ;\n",
      "5 -> 6 ;\n",
      "7 [label=\"samples = 1, value = [0, 1, 0, 0], class = high\", fillcolor=\"#47e539ff\"] ;\n",
      "6 -> 7 ;\n",
      "8 [label=\"samples = 6, value = [6, 0, 0, 0], class = awful\", fillcolor=\"#e58139ff\"] ;\n",
      "6 -> 8 ;\n",
      "9 [label=\"FemaleLtrcyRate <= 0.9, samples = 15, value = [1, 14, 0, 0], class = high\", fillcolor=\"#47e539ed\"] ;\n",
      "5 -> 9 ;\n",
      "10 [label=\"samples = 13, value = [0, 13, 0, 0], class = high\", fillcolor=\"#47e539ff\"] ;\n",
      "9 -> 10 ;\n",
      "11 [label=\"samples = 2, value = [1, 1, 0, 0], class = awful\", fillcolor=\"#e5813900\"] ;\n",
      "9 -> 11 ;\n",
      "12 [label=\"AdultLtrcyRate <= 0.934, samples = 56, value = [1, 8, 26, 21], class = low\", fillcolor=\"#399de524\"] ;\n",
      "0 -> 12 [labeldistance=2.5, labelangle=-45, headlabel=\"False\"] ;\n",
      "13 [label=\"SustAccImprSanUrb <= 0.683, samples = 33, value = [1, 7, 6, 19], class = medium\", fillcolor=\"#d739e576\"] ;\n",
      "12 -> 13 ;\n",
      "14 [label=\"GDPPCptaIntDol <= 6643.0, samples = 7, value = [1, 5, 0, 1], class = high\", fillcolor=\"#47e539aa\"] ;\n",
      "13 -> 14 ;\n",
      "15 [label=\"samples = 5, value = [0, 5, 0, 0], class = high\", fillcolor=\"#47e539ff\"] ;\n",
      "14 -> 15 ;\n",
      "16 [label=\"samples = 2, value = [1, 0, 0, 1], class = awful\", fillcolor=\"#e5813900\"] ;\n",
      "14 -> 16 ;\n",
      "17 [label=\"SustAccImprSanUrb <= 0.965, samples = 26, value = [0, 2, 6, 18], class = medium\", fillcolor=\"#d739e599\"] ;\n",
      "13 -> 17 ;\n",
      "18 [label=\"samples = 20, value = [0, 1, 2, 17], class = medium\", fillcolor=\"#d739e5d4\"] ;\n",
      "17 -> 18 ;\n",
      "19 [label=\"samples = 6, value = [0, 1, 4, 1], class = low\", fillcolor=\"#399de599\"] ;\n",
      "17 -> 19 ;\n",
      "20 [label=\"SustAccImprSanRur <= 0.446, samples = 23, value = [0, 1, 20, 2], class = low\", fillcolor=\"#399de5db\"] ;\n",
      "12 -> 20 ;\n",
      "21 [label=\"samples = 2, value = [0, 0, 0, 2], class = medium\", fillcolor=\"#d739e5ff\"] ;\n",
      "20 -> 21 ;\n",
      "22 [label=\"RenewResm3PcptaYr <= 188807.0, samples = 21, value = [0, 1, 20, 0], class = low\", fillcolor=\"#399de5f2\"] ;\n",
      "20 -> 22 ;\n",
      "23 [label=\"samples = 20, value = [0, 0, 20, 0], class = low\", fillcolor=\"#399de5ff\"] ;\n",
      "22 -> 23 ;\n",
      "24 [label=\"samples = 1, value = [0, 1, 0, 0], class = high\", fillcolor=\"#47e539ff\"] ;\n",
      "22 -> 24 ;\n",
      "}\n"
     ]
    }
   ],
   "source": [
    "from sklearn import tree\n",
    "\n",
    "dt_sample = DecisionTreeClassifier(max_depth = 4, random_state=6666)\n",
    "dt_sample.fit(X_train, y_train)\n",
    "\n",
    "thestring=tree.export_graphviz(dt_sample,out_file=None,\n",
    "                         feature_names=X_train.columns.values,  \n",
    "                         class_names=dt_sample.classes_,  \n",
    "                         filled=True, rounded=True,  \n",
    "                         special_characters=True,impurity=False).replace(\"<br/>\",\", \").replace(\"&le;\",\"<=\").replace(\"=<\",\"=\\\"\").replace(\">,\",\"\\\",\")\n",
    "print (thestring)"
   ]
  },
  {
   "cell_type": "code",
   "execution_count": 125,
   "metadata": {},
   "outputs": [
    {
     "data": {
      "image/png": "[encoded data removed]",
      "text/plain": [
       "<IPython.core.display.Image object>"
      ]
     },
     "execution_count": 125,
     "metadata": {},
     "output_type": "execute_result"
    }
   ],
   "source": [
    "from sklearn import tree\n",
    "from IPython.display import Image  \n",
    "import pydotplus\n",
    "\n",
    "graph = pydotplus.graph_from_dot_data(thestring)  \n",
    "Image(graph.create_png())  "
   ]
  },
  {
   "cell_type": "markdown",
   "metadata": {},
   "source": [
    "### Question 4, Fit a random forest to the data from question 3 (20 pts)\n",
    "\n",
    "a) Please use the same test/train split from previous question and feel free to tune the hyper-parameters for Random Forest model using training data. The package from sklearn is here: http://scikit-learn.org/stable/modules/generated/sklearn.ensemble.RandomForestClassifier.html.\n",
    "Then please report your out of sample prediction result and compare this model's performance with 3c). (10 pts)"
   ]
  },
  {
   "cell_type": "code",
   "execution_count": 126,
   "metadata": {},
   "outputs": [],
   "source": [
    "from sklearn.ensemble import RandomForestClassifier\n",
    "from sklearn.model_selection import GridSearchCV"
   ]
  },
  {
   "cell_type": "code",
   "execution_count": 127,
   "metadata": {},
   "outputs": [
    {
     "name": "stdout",
     "output_type": "stream",
     "text": [
      "{'max_depth': 2}\n",
      "0.717948717948718\n"
     ]
    }
   ],
   "source": [
    "param_grid = {'max_depth':range(1,11)}\n",
    "gr = GridSearchCV(rf, param_grid = param_grid)\n",
    "rs = gr.fit(X_train,y_train)\n",
    "\n",
    "rf = RandomForestClassifier(max_depth = rs.best_params_['max_depth'], random_state=6666)\n",
    "rf.fit(X_train, y_train)\n",
    "\n",
    "print(rs.best_params_)\n",
    "print(rf.score(X_test,y_test))"
   ]
  },
  {
   "cell_type": "markdown",
   "metadata": {
    "collapsed": true
   },
   "source": [
    "b) Write one paragraph comparing the results from those two models (Random Forest vs Decision Tree) in terms of both accuracy and interpretability. (10 pts)"
   ]
  },
  {
   "cell_type": "markdown",
   "metadata": {
    "collapsed": true
   },
   "source": [
    "The highest accuracy of Decision Tree after tuning the hyper-parameter (max-depth) is 0.5128205128205128. The highest accuracy of Random Forest after tuning the hyper-parameter (max-depth) is 0.717948717948718. There is slightly difference of accuracy (0.201) between the two models, the Random Forest performs better. However, the Random Forest Model is hard to interpret as a whole or  individual predictions. Which model is more suitable need to be consider in the specific situation."
   ]
  },
  {
   "cell_type": "code",
   "execution_count": null,
   "metadata": {},
   "outputs": [],
   "source": []
  }
 ],
 "metadata": {
  "anaconda-cloud": {},
  "celltoolbar": "Raw Cell Format",
  "kernelspec": {
   "display_name": "Python 3",
   "language": "python",
   "name": "python3"
  },
  "language_info": {
   "codemirror_mode": {
    "name": "ipython",
    "version": 3
   },
   "file_extension": ".py",
   "mimetype": "text/x-python",
   "name": "python",
   "nbconvert_exporter": "python",
   "pygments_lexer": "ipython3",
   "version": "3.6.5"
  }
 },
 "nbformat": 4,
 "nbformat_minor": 2
}
